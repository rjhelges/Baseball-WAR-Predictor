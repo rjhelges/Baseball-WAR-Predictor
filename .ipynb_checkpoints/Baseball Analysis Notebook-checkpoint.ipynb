{
 "cells": [
  {
   "cell_type": "markdown",
   "metadata": {},
   "source": [
    "### Baseball WAR Predictor ###\n",
    "\n",
    "Data source: fangraphs.com\n",
    "\n",
    "Downloaded batting data from 1950-2017. Goal is to create a model to predict a player's WAR given basic baseball stats."
   ]
  },
  {
   "cell_type": "code",
   "execution_count": 1,
   "metadata": {},
   "outputs": [],
   "source": [
    "import pandas as pd\n",
    "import numpy as np\n",
    "import matplotlib.pyplot as plt"
   ]
  },
  {
   "cell_type": "code",
   "execution_count": 2,
   "metadata": {},
   "outputs": [
    {
     "data": {
      "text/html": [
       "<div>\n",
       "<style scoped>\n",
       "    .dataframe tbody tr th:only-of-type {\n",
       "        vertical-align: middle;\n",
       "    }\n",
       "\n",
       "    .dataframe tbody tr th {\n",
       "        vertical-align: top;\n",
       "    }\n",
       "\n",
       "    .dataframe thead th {\n",
       "        text-align: right;\n",
       "    }\n",
       "</style>\n",
       "<table border=\"1\" class=\"dataframe\">\n",
       "  <thead>\n",
       "    <tr style=\"text-align: right;\">\n",
       "      <th></th>\n",
       "      <th>Season</th>\n",
       "      <th>Name</th>\n",
       "      <th>Team</th>\n",
       "      <th>G</th>\n",
       "      <th>PA</th>\n",
       "      <th>HR</th>\n",
       "      <th>R</th>\n",
       "      <th>RBI</th>\n",
       "      <th>SB</th>\n",
       "      <th>BB%</th>\n",
       "      <th>...</th>\n",
       "      <th>AVG</th>\n",
       "      <th>OBP</th>\n",
       "      <th>SLG</th>\n",
       "      <th>wOBA</th>\n",
       "      <th>wRC+</th>\n",
       "      <th>BsR</th>\n",
       "      <th>Off</th>\n",
       "      <th>Def</th>\n",
       "      <th>WAR</th>\n",
       "      <th>playerid</th>\n",
       "    </tr>\n",
       "  </thead>\n",
       "  <tbody>\n",
       "    <tr>\n",
       "      <th>0</th>\n",
       "      <td>2002</td>\n",
       "      <td>Barry Bonds</td>\n",
       "      <td>Giants</td>\n",
       "      <td>143</td>\n",
       "      <td>612</td>\n",
       "      <td>46</td>\n",
       "      <td>117</td>\n",
       "      <td>110</td>\n",
       "      <td>9</td>\n",
       "      <td>32.4 %</td>\n",
       "      <td>...</td>\n",
       "      <td>0.370</td>\n",
       "      <td>0.582</td>\n",
       "      <td>0.799</td>\n",
       "      <td>0.544</td>\n",
       "      <td>244</td>\n",
       "      <td>-1.2</td>\n",
       "      <td>108.9</td>\n",
       "      <td>-2.0</td>\n",
       "      <td>12.7</td>\n",
       "      <td>1109</td>\n",
       "    </tr>\n",
       "    <tr>\n",
       "      <th>1</th>\n",
       "      <td>2001</td>\n",
       "      <td>Barry Bonds</td>\n",
       "      <td>Giants</td>\n",
       "      <td>153</td>\n",
       "      <td>664</td>\n",
       "      <td>73</td>\n",
       "      <td>129</td>\n",
       "      <td>137</td>\n",
       "      <td>13</td>\n",
       "      <td>26.7 %</td>\n",
       "      <td>...</td>\n",
       "      <td>0.328</td>\n",
       "      <td>0.515</td>\n",
       "      <td>0.863</td>\n",
       "      <td>0.537</td>\n",
       "      <td>235</td>\n",
       "      <td>1.3</td>\n",
       "      <td>118.0</td>\n",
       "      <td>-12.0</td>\n",
       "      <td>12.5</td>\n",
       "      <td>1109</td>\n",
       "    </tr>\n",
       "    <tr>\n",
       "      <th>2</th>\n",
       "      <td>2004</td>\n",
       "      <td>Barry Bonds</td>\n",
       "      <td>Giants</td>\n",
       "      <td>147</td>\n",
       "      <td>617</td>\n",
       "      <td>45</td>\n",
       "      <td>129</td>\n",
       "      <td>101</td>\n",
       "      <td>6</td>\n",
       "      <td>37.6 %</td>\n",
       "      <td>...</td>\n",
       "      <td>0.362</td>\n",
       "      <td>0.609</td>\n",
       "      <td>0.812</td>\n",
       "      <td>0.537</td>\n",
       "      <td>233</td>\n",
       "      <td>-0.3</td>\n",
       "      <td>105.7</td>\n",
       "      <td>-4.4</td>\n",
       "      <td>11.9</td>\n",
       "      <td>1109</td>\n",
       "    </tr>\n",
       "    <tr>\n",
       "      <th>3</th>\n",
       "      <td>1956</td>\n",
       "      <td>Mickey Mantle</td>\n",
       "      <td>Yankees</td>\n",
       "      <td>150</td>\n",
       "      <td>652</td>\n",
       "      <td>52</td>\n",
       "      <td>132</td>\n",
       "      <td>130</td>\n",
       "      <td>10</td>\n",
       "      <td>17.2 %</td>\n",
       "      <td>...</td>\n",
       "      <td>0.353</td>\n",
       "      <td>0.464</td>\n",
       "      <td>0.705</td>\n",
       "      <td>0.498</td>\n",
       "      <td>202</td>\n",
       "      <td>2.1</td>\n",
       "      <td>86.4</td>\n",
       "      <td>4.1</td>\n",
       "      <td>11.5</td>\n",
       "      <td>1008082</td>\n",
       "    </tr>\n",
       "    <tr>\n",
       "      <th>4</th>\n",
       "      <td>1957</td>\n",
       "      <td>Mickey Mantle</td>\n",
       "      <td>Yankees</td>\n",
       "      <td>144</td>\n",
       "      <td>623</td>\n",
       "      <td>34</td>\n",
       "      <td>121</td>\n",
       "      <td>94</td>\n",
       "      <td>16</td>\n",
       "      <td>23.4 %</td>\n",
       "      <td>...</td>\n",
       "      <td>0.365</td>\n",
       "      <td>0.512</td>\n",
       "      <td>0.665</td>\n",
       "      <td>0.498</td>\n",
       "      <td>217</td>\n",
       "      <td>2.7</td>\n",
       "      <td>88.9</td>\n",
       "      <td>0.2</td>\n",
       "      <td>11.4</td>\n",
       "      <td>1008082</td>\n",
       "    </tr>\n",
       "  </tbody>\n",
       "</table>\n",
       "<p>5 rows × 23 columns</p>\n",
       "</div>"
      ],
      "text/plain": [
       "   Season           Name     Team    G   PA  HR    R  RBI  SB     BB%  \\\n",
       "0    2002    Barry Bonds   Giants  143  612  46  117  110   9  32.4 %   \n",
       "1    2001    Barry Bonds   Giants  153  664  73  129  137  13  26.7 %   \n",
       "2    2004    Barry Bonds   Giants  147  617  45  129  101   6  37.6 %   \n",
       "3    1956  Mickey Mantle  Yankees  150  652  52  132  130  10  17.2 %   \n",
       "4    1957  Mickey Mantle  Yankees  144  623  34  121   94  16  23.4 %   \n",
       "\n",
       "     ...       AVG    OBP    SLG   wOBA  wRC+  BsR    Off   Def   WAR  \\\n",
       "0    ...     0.370  0.582  0.799  0.544   244 -1.2  108.9  -2.0  12.7   \n",
       "1    ...     0.328  0.515  0.863  0.537   235  1.3  118.0 -12.0  12.5   \n",
       "2    ...     0.362  0.609  0.812  0.537   233 -0.3  105.7  -4.4  11.9   \n",
       "3    ...     0.353  0.464  0.705  0.498   202  2.1   86.4   4.1  11.5   \n",
       "4    ...     0.365  0.512  0.665  0.498   217  2.7   88.9   0.2  11.4   \n",
       "\n",
       "   playerid  \n",
       "0      1109  \n",
       "1      1109  \n",
       "2      1109  \n",
       "3   1008082  \n",
       "4   1008082  \n",
       "\n",
       "[5 rows x 23 columns]"
      ]
     },
     "execution_count": 2,
     "metadata": {},
     "output_type": "execute_result"
    }
   ],
   "source": [
    "battingStats = pd.read_csv(\"FanGraphs Leaderboard.csv\")\n",
    "battingStats.head()"
   ]
  },
  {
   "cell_type": "code",
   "execution_count": 3,
   "metadata": {},
   "outputs": [
    {
     "data": {
      "text/plain": [
       "Index(['Season', 'Name', 'Team', 'G', 'PA', 'HR', 'R', 'RBI', 'SB', 'BB%',\n",
       "       'K%', 'ISO', 'BABIP', 'AVG', 'OBP', 'SLG', 'wOBA', 'wRC+', 'BsR', 'Off',\n",
       "       'Def', 'WAR', 'playerid'],\n",
       "      dtype='object')"
      ]
     },
     "execution_count": 3,
     "metadata": {},
     "output_type": "execute_result"
    }
   ],
   "source": [
    "battingStats.columns"
   ]
  },
  {
   "cell_type": "code",
   "execution_count": 4,
   "metadata": {},
   "outputs": [
    {
     "data": {
      "text/plain": [
       "Season        int64\n",
       "Name         object\n",
       "Team         object\n",
       "G             int64\n",
       "PA            int64\n",
       "HR            int64\n",
       "R             int64\n",
       "RBI           int64\n",
       "SB            int64\n",
       "BB%          object\n",
       "K%           object\n",
       "ISO         float64\n",
       "BABIP       float64\n",
       "AVG         float64\n",
       "OBP         float64\n",
       "SLG         float64\n",
       "wOBA        float64\n",
       "wRC+          int64\n",
       "BsR         float64\n",
       "Off         float64\n",
       "Def         float64\n",
       "WAR         float64\n",
       "playerid      int64\n",
       "dtype: object"
      ]
     },
     "execution_count": 4,
     "metadata": {},
     "output_type": "execute_result"
    }
   ],
   "source": [
    "battingStats.dtypes"
   ]
  },
  {
   "cell_type": "markdown",
   "metadata": {},
   "source": [
    "Dropping columns that are not needed for the model"
   ]
  },
  {
   "cell_type": "code",
   "execution_count": 5,
   "metadata": {},
   "outputs": [],
   "source": [
    "drop_columns = [\"Season\", \"Name\", \"Team\"]\n",
    "battingStats = battingStats.drop(drop_columns, axis=1)"
   ]
  },
  {
   "cell_type": "code",
   "execution_count": 6,
   "metadata": {},
   "outputs": [
    {
     "name": "stdout",
     "output_type": "stream",
     "text": [
      "<class 'pandas.core.frame.DataFrame'>\n",
      "RangeIndex: 8464 entries, 0 to 8463\n",
      "Data columns (total 20 columns):\n",
      "G           8464 non-null int64\n",
      "PA          8464 non-null int64\n",
      "HR          8464 non-null int64\n",
      "R           8464 non-null int64\n",
      "RBI         8464 non-null int64\n",
      "SB          8464 non-null int64\n",
      "BB%         8464 non-null object\n",
      "K%          8464 non-null object\n",
      "ISO         8464 non-null float64\n",
      "BABIP       8464 non-null float64\n",
      "AVG         8464 non-null float64\n",
      "OBP         8464 non-null float64\n",
      "SLG         8464 non-null float64\n",
      "wOBA        8464 non-null float64\n",
      "wRC+        8464 non-null int64\n",
      "BsR         8464 non-null float64\n",
      "Off         8464 non-null float64\n",
      "Def         8464 non-null float64\n",
      "WAR         8464 non-null float64\n",
      "playerid    8464 non-null int64\n",
      "dtypes: float64(10), int64(8), object(2)\n",
      "memory usage: 1.3+ MB\n"
     ]
    }
   ],
   "source": [
    "battingStats.info()"
   ]
  },
  {
   "cell_type": "markdown",
   "metadata": {},
   "source": [
    "Removing the '%' character from 2 columns and changing the columns to floats so they can be used in the model"
   ]
  },
  {
   "cell_type": "code",
   "execution_count": 7,
   "metadata": {},
   "outputs": [],
   "source": [
    "battingStats['BB%'] = battingStats['BB%'].map(lambda x: x.strip('%')).astype(float)\n",
    "battingStats['K%'] = battingStats['K%'].map(lambda x: x.strip('%')).astype(float)"
   ]
  },
  {
   "cell_type": "code",
   "execution_count": 8,
   "metadata": {},
   "outputs": [
    {
     "name": "stdout",
     "output_type": "stream",
     "text": [
      "<class 'pandas.core.frame.DataFrame'>\n",
      "RangeIndex: 8464 entries, 0 to 8463\n",
      "Data columns (total 20 columns):\n",
      "G           8464 non-null int64\n",
      "PA          8464 non-null int64\n",
      "HR          8464 non-null int64\n",
      "R           8464 non-null int64\n",
      "RBI         8464 non-null int64\n",
      "SB          8464 non-null int64\n",
      "BB%         8464 non-null float64\n",
      "K%          8464 non-null float64\n",
      "ISO         8464 non-null float64\n",
      "BABIP       8464 non-null float64\n",
      "AVG         8464 non-null float64\n",
      "OBP         8464 non-null float64\n",
      "SLG         8464 non-null float64\n",
      "wOBA        8464 non-null float64\n",
      "wRC+        8464 non-null int64\n",
      "BsR         8464 non-null float64\n",
      "Off         8464 non-null float64\n",
      "Def         8464 non-null float64\n",
      "WAR         8464 non-null float64\n",
      "playerid    8464 non-null int64\n",
      "dtypes: float64(12), int64(8)\n",
      "memory usage: 1.3 MB\n"
     ]
    }
   ],
   "source": [
    "battingStats.info()"
   ]
  },
  {
   "cell_type": "code",
   "execution_count": 9,
   "metadata": {},
   "outputs": [
    {
     "data": {
      "text/plain": [
       "G           0.245351\n",
       "PA          0.394911\n",
       "HR          0.496875\n",
       "R           0.651702\n",
       "RBI         0.501000\n",
       "SB          0.147971\n",
       "BB%         0.418101\n",
       "K%         -0.010551\n",
       "ISO         0.533763\n",
       "BABIP       0.396889\n",
       "AVG         0.584607\n",
       "OBP         0.689709\n",
       "SLG         0.663357\n",
       "wOBA        0.756209\n",
       "wRC+        0.796861\n",
       "BsR         0.219377\n",
       "Off         0.836402\n",
       "Def         0.336213\n",
       "WAR         1.000000\n",
       "playerid   -0.032687\n",
       "Name: WAR, dtype: float64"
      ]
     },
     "execution_count": 9,
     "metadata": {},
     "output_type": "execute_result"
    }
   ],
   "source": [
    "battingStats.corr()['WAR']"
   ]
  },
  {
   "cell_type": "markdown",
   "metadata": {},
   "source": [
    "Dropping columns that don't give us important information (playerid) or that are stats that Fangraph calculates themselves. We want to only keep the more popular and easily available stats, not ones that require special calculations."
   ]
  },
  {
   "cell_type": "code",
   "execution_count": 10,
   "metadata": {},
   "outputs": [],
   "source": [
    "drop_columns = ['playerid', 'Def', 'Off', 'BsR', 'wRC+', 'wOBA']\n",
    "data = battingStats.drop(drop_columns, axis=1)"
   ]
  },
  {
   "cell_type": "markdown",
   "metadata": {},
   "source": [
    "Use RFECV to pull out the best features to use for our model"
   ]
  },
  {
   "cell_type": "code",
   "execution_count": 11,
   "metadata": {},
   "outputs": [
    {
     "data": {
      "text/plain": [
       "Index(['G', 'HR', 'R', 'RBI', 'SB', 'BB%', 'K%', 'ISO', 'BABIP', 'AVG', 'OBP',\n",
       "       'SLG'],\n",
       "      dtype='object')"
      ]
     },
     "execution_count": 11,
     "metadata": {},
     "output_type": "execute_result"
    }
   ],
   "source": [
    "from sklearn.feature_selection import RFECV\n",
    "from sklearn.model_selection import GridSearchCV\n",
    "from sklearn.linear_model import LinearRegression\n",
    "\n",
    "X = data.drop('WAR', axis=1)\n",
    "y = data['WAR']\n",
    "model = LinearRegression()\n",
    "selector = RFECV(model, cv=10)\n",
    "selector.fit(X, y)\n",
    "best_columns = X.columns[selector.support_]\n",
    "best_columns"
   ]
  },
  {
   "cell_type": "code",
   "execution_count": 12,
   "metadata": {},
   "outputs": [
    {
     "name": "stdout",
     "output_type": "stream",
     "text": [
      "1.62209013924 1.2736130257 0.624604992425\n"
     ]
    }
   ],
   "source": [
    "from sklearn.model_selection import train_test_split\n",
    "from sklearn.metrics import mean_squared_error\n",
    "\n",
    "X_train, X_test, y_train, y_test = train_test_split(data[best_columns], data['WAR'], test_size=.25, random_state=3)\n",
    "\n",
    "model.fit(X_train, y_train)\n",
    "predictions = model.predict(X_test)\n",
    "mse = mean_squared_error(y_test, predictions)\n",
    "rmse = mse ** (1/2)\n",
    "score = model.score(X_test, y_test)\n",
    "print(mse, rmse, score)\n"
   ]
  },
  {
   "cell_type": "code",
   "execution_count": 25,
   "metadata": {},
   "outputs": [
    {
     "data": {
      "text/plain": [
       "array([ 1.41923991,  2.16682954])"
      ]
     },
     "execution_count": 25,
     "metadata": {},
     "output_type": "execute_result"
    }
   ],
   "source": [
    "Baez = [[142, 14, 50, 59, 12, 3.3, 24.0, .150, .336, .273, .314, .423],\n",
    "            [145, 23, 75, 75, 10, 5.9, 28.3, .207, .345, .279, .317, .480]]\n",
    "\n",
    "Baez_WAR = model.predict(Baez)\n",
    "Baez_WAR"
   ]
  },
  {
   "cell_type": "markdown",
   "metadata": {},
   "source": [
    "I used my favorite baseball player, Javier Baez, and put in his stats from 2016 and 2017. Our model predicts 1.4 and 2.2 respectively. Fangraphs' WAR has him at 2.2 and 2.3 respectively. Our model doesn't take into account defense which probably accounts for most if not all of the discrepency in the 2 values. But overall not too bad using just basic baseball stats."
   ]
  },
  {
   "cell_type": "code",
   "execution_count": null,
   "metadata": {},
   "outputs": [],
   "source": []
  }
 ],
 "metadata": {
  "kernelspec": {
   "display_name": "Python 3",
   "language": "python",
   "name": "python3"
  },
  "language_info": {
   "codemirror_mode": {
    "name": "ipython",
    "version": 3
   },
   "file_extension": ".py",
   "mimetype": "text/x-python",
   "name": "python",
   "nbconvert_exporter": "python",
   "pygments_lexer": "ipython3",
   "version": "3.6.4"
  }
 },
 "nbformat": 4,
 "nbformat_minor": 2
}
